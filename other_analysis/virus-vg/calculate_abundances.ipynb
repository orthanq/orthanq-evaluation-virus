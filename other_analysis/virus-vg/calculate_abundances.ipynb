{
 "cells": [
  {
   "cell_type": "code",
   "execution_count": 1,
   "metadata": {},
   "outputs": [],
   "source": [
    "import pysam\n",
    "import re\n",
    "from collections import defaultdict\n",
    "import pandas as pd\n",
    "import altair as alt"
   ]
  },
  {
   "cell_type": "code",
   "execution_count": 19,
   "metadata": {},
   "outputs": [],
   "source": [
    "# --- Step 1: Parse haplotype frequencies from FASTA ---\n",
    "hap_freqs = {}"
   ]
  },
  {
   "cell_type": "code",
   "execution_count": 20,
   "metadata": {},
   "outputs": [],
   "source": [
    "\n",
    "with open(\"haps.final.fasta\", \"r\") as fasta:\n",
    "    for line in fasta:\n",
    "        if line.startswith(\">\"):\n",
    "            # Example header: >path24 3770x frequency=0.027\n",
    "            match = re.match(r'^>(\\S+).*frequency=([\\d.]+)', line)\n",
    "            if match:\n",
    "                hap_id = match.group(1)\n",
    "                freq = float(match.group(2))\n",
    "                hap_freqs[hap_id] = freq"
   ]
  },
  {
   "cell_type": "code",
   "execution_count": 21,
   "metadata": {},
   "outputs": [
    {
     "data": {
      "text/plain": [
       "{'path1': 0.087,\n",
       " 'path2': 0.041,\n",
       " 'path4': 0.063,\n",
       " 'path6': 0.065,\n",
       " 'path8': 0.024,\n",
       " 'path9': 0.077,\n",
       " 'path10': 0.017,\n",
       " 'path11': 0.06,\n",
       " 'path12': 0.042,\n",
       " 'path13': 0.017,\n",
       " 'path14': 0.032,\n",
       " 'path15': 0.051,\n",
       " 'path16': 0.09,\n",
       " 'path17': 0.043,\n",
       " 'path18': 0.016,\n",
       " 'path19': 0.043,\n",
       " 'path20': 0.053,\n",
       " 'path22': 0.058,\n",
       " 'path23': 0.05,\n",
       " 'path24': 0.027,\n",
       " 'path26': 0.044}"
      ]
     },
     "execution_count": 21,
     "metadata": {},
     "output_type": "execute_result"
    }
   ],
   "source": [
    "hap_freqs"
   ]
  },
  {
   "cell_type": "code",
   "execution_count": 22,
   "metadata": {},
   "outputs": [],
   "source": [
    "# --- Step 2: Process SAM with pysam ---\n",
    "samfile = pysam.AlignmentFile(\"output.sam\", \"r\")\n",
    "\n",
    "hap_to_lineage = {}\n",
    "\n",
    "for read in samfile.fetch(until_eof=True):\n",
    "    if read.is_unmapped or read.is_supplementary or read.is_secondary:\n",
    "        continue\n",
    "    hap_id = read.query_name\n",
    "    lineage = samfile.get_reference_name(read.reference_id)\n",
    "    hap_to_lineage[hap_id] = lineage\n",
    "\n",
    "samfile.close()\n"
   ]
  },
  {
   "cell_type": "code",
   "execution_count": 23,
   "metadata": {},
   "outputs": [
    {
     "data": {
      "text/plain": [
       "{'path1': 'HXB2',\n",
       " 'path6': 'YU2',\n",
       " 'path11': '896',\n",
       " 'path15': '896',\n",
       " 'path22': 'HXB2',\n",
       " 'path23': 'YU2',\n",
       " 'path26': 'JRCSF'}"
      ]
     },
     "execution_count": 23,
     "metadata": {},
     "output_type": "execute_result"
    }
   ],
   "source": [
    "hap_to_lineage"
   ]
  },
  {
   "cell_type": "code",
   "execution_count": 24,
   "metadata": {},
   "outputs": [],
   "source": [
    "# --- Step 3: Sum frequencies per lineage ---\n",
    "lineage_abundance = defaultdict(float)\n",
    "\n",
    "for hap_id, lineage in hap_to_lineage.items():\n",
    "    freq = hap_freqs.get(hap_id)\n",
    "    if freq is not None:\n",
    "        lineage_abundance[lineage] += freq\n"
   ]
  },
  {
   "cell_type": "code",
   "execution_count": 25,
   "metadata": {},
   "outputs": [
    {
     "name": "stdout",
     "output_type": "stream",
     "text": [
      "Lineage Abundances:\n",
      "896: 0.1110\n",
      "HXB2: 0.1450\n",
      "JRCSF: 0.0440\n",
      "YU2: 0.1150\n"
     ]
    }
   ],
   "source": [
    "# --- Output ---\n",
    "print(\"Lineage Abundances:\")\n",
    "for lineage, abundance in sorted(lineage_abundance.items()):\n",
    "    print(f\"{lineage}: {abundance:.4f}\")"
   ]
  },
  {
   "cell_type": "code",
   "execution_count": 26,
   "metadata": {},
   "outputs": [],
   "source": [
    "\n",
    "#fractions in the truth\n",
    "truth = {\"896\": 0.226, \"HXB2\": 0.10, \"JRCSF\": 0.296, \"NL43\": 0.269, \"YU2\": 0.109}"
   ]
  },
  {
   "cell_type": "code",
   "execution_count": 27,
   "metadata": {},
   "outputs": [
    {
     "data": {
      "text/plain": [
       "{'896': 0.226, 'HXB2': 0.1, 'JRCSF': 0.296, 'NL43': 0.269, 'YU2': 0.109}"
      ]
     },
     "execution_count": 27,
     "metadata": {},
     "output_type": "execute_result"
    }
   ],
   "source": [
    "truth\n"
   ]
  },
  {
   "cell_type": "code",
   "execution_count": 28,
   "metadata": {},
   "outputs": [
    {
     "data": {
      "text/plain": [
       "defaultdict(float,\n",
       "            {'HXB2': 0.145,\n",
       "             'YU2': 0.115,\n",
       "             '896': 0.11099999999999999,\n",
       "             'JRCSF': 0.044})"
      ]
     },
     "execution_count": 28,
     "metadata": {},
     "output_type": "execute_result"
    }
   ],
   "source": [
    "lineage_abundance"
   ]
  },
  {
   "cell_type": "code",
   "execution_count": 29,
   "metadata": {},
   "outputs": [],
   "source": [
    "lineage_abundance[\"NL43\"] = 0.0"
   ]
  },
  {
   "cell_type": "code",
   "execution_count": 30,
   "metadata": {},
   "outputs": [],
   "source": [
    "scatterplot_data = pd.DataFrame({\n",
    "    'Actual': list(truth.values()),\n",
    "    'Predicted': list(lineage_abundance.values()),\n",
    "    })"
   ]
  },
  {
   "cell_type": "code",
   "execution_count": 31,
   "metadata": {},
   "outputs": [],
   "source": [
    "def create_scatter_plot(data):\n",
    "    scatterplot = alt.Chart(data).mark_point().transform_calculate(jitter=\"random()\").encode(\n",
    "        x='Actual:Q',\n",
    "        y='Predicted:Q',\n",
    "        color=alt.value(\"black\"),\n",
    "        tooltip=alt.Tooltip(['Actual', 'Predicted'])\n",
    "    )\n",
    "\n",
    "    # add a diagonal line\n",
    "    line = pd.DataFrame({\n",
    "    'Actual': [0.0, 0.4],\n",
    "    'Predicted':  [0.0, 0.4],\n",
    "    })\n",
    "\n",
    "    line_plot = alt.Chart(line).mark_line(color='red').encode(\n",
    "    x= alt.X('Actual',scale=alt.Scale(domain=[0.0, 0.4])),\n",
    "    y= alt.Y('Predicted', scale=alt.Scale(domain=[0.0, 0.4])),\n",
    "    )\n",
    "\n",
    "    plot = (scatterplot + line_plot).properties(\n",
    "        width=200,\n",
    "        height=200\n",
    "    )\n",
    "    return plot"
   ]
  },
  {
   "cell_type": "code",
   "execution_count": 32,
   "metadata": {},
   "outputs": [],
   "source": [
    "plot = create_scatter_plot(scatterplot_data)"
   ]
  },
  {
   "cell_type": "code",
   "execution_count": 33,
   "metadata": {},
   "outputs": [
    {
     "data": {
      "text/html": [
       "\n",
       "<style>\n",
       "  #altair-viz-240abd9a73cb47caacfce0485d48566d.vega-embed {\n",
       "    width: 100%;\n",
       "    display: flex;\n",
       "  }\n",
       "\n",
       "  #altair-viz-240abd9a73cb47caacfce0485d48566d.vega-embed details,\n",
       "  #altair-viz-240abd9a73cb47caacfce0485d48566d.vega-embed details summary {\n",
       "    position: relative;\n",
       "  }\n",
       "</style>\n",
       "<div id=\"altair-viz-240abd9a73cb47caacfce0485d48566d\"></div>\n",
       "<script type=\"text/javascript\">\n",
       "  var VEGA_DEBUG = (typeof VEGA_DEBUG == \"undefined\") ? {} : VEGA_DEBUG;\n",
       "  (function(spec, embedOpt){\n",
       "    let outputDiv = document.currentScript.previousElementSibling;\n",
       "    if (outputDiv.id !== \"altair-viz-240abd9a73cb47caacfce0485d48566d\") {\n",
       "      outputDiv = document.getElementById(\"altair-viz-240abd9a73cb47caacfce0485d48566d\");\n",
       "    }\n",
       "\n",
       "    const paths = {\n",
       "      \"vega\": \"https://cdn.jsdelivr.net/npm/vega@5?noext\",\n",
       "      \"vega-lib\": \"https://cdn.jsdelivr.net/npm/vega-lib?noext\",\n",
       "      \"vega-lite\": \"https://cdn.jsdelivr.net/npm/vega-lite@5.20.1?noext\",\n",
       "      \"vega-embed\": \"https://cdn.jsdelivr.net/npm/vega-embed@6?noext\",\n",
       "    };\n",
       "\n",
       "    function maybeLoadScript(lib, version) {\n",
       "      var key = `${lib.replace(\"-\", \"\")}_version`;\n",
       "      return (VEGA_DEBUG[key] == version) ?\n",
       "        Promise.resolve(paths[lib]) :\n",
       "        new Promise(function(resolve, reject) {\n",
       "          var s = document.createElement('script');\n",
       "          document.getElementsByTagName(\"head\")[0].appendChild(s);\n",
       "          s.async = true;\n",
       "          s.onload = () => {\n",
       "            VEGA_DEBUG[key] = version;\n",
       "            return resolve(paths[lib]);\n",
       "          };\n",
       "          s.onerror = () => reject(`Error loading script: ${paths[lib]}`);\n",
       "          s.src = paths[lib];\n",
       "        });\n",
       "    }\n",
       "\n",
       "    function showError(err) {\n",
       "      outputDiv.innerHTML = `<div class=\"error\" style=\"color:red;\">${err}</div>`;\n",
       "      throw err;\n",
       "    }\n",
       "\n",
       "    function displayChart(vegaEmbed) {\n",
       "      vegaEmbed(outputDiv, spec, embedOpt)\n",
       "        .catch(err => showError(`Javascript Error: ${err.message}<br>This usually means there's a typo in your chart specification. See the javascript console for the full traceback.`));\n",
       "    }\n",
       "\n",
       "    if(typeof define === \"function\" && define.amd) {\n",
       "      requirejs.config({paths});\n",
       "      let deps = [\"vega-embed\"];\n",
       "      require(deps, displayChart, err => showError(`Error loading script: ${err.message}`));\n",
       "    } else {\n",
       "      maybeLoadScript(\"vega\", \"5\")\n",
       "        .then(() => maybeLoadScript(\"vega-lite\", \"5.20.1\"))\n",
       "        .then(() => maybeLoadScript(\"vega-embed\", \"6\"))\n",
       "        .catch(showError)\n",
       "        .then(() => displayChart(vegaEmbed));\n",
       "    }\n",
       "  })({\"config\": {\"view\": {\"continuousWidth\": 300, \"continuousHeight\": 300}}, \"layer\": [{\"data\": {\"name\": \"data-6677bd1297eaf29d06dae54ead6bef81\"}, \"mark\": {\"type\": \"point\"}, \"encoding\": {\"color\": {\"value\": \"black\"}, \"tooltip\": [{\"field\": \"Actual\", \"type\": \"quantitative\"}, {\"field\": \"Predicted\", \"type\": \"quantitative\"}], \"x\": {\"field\": \"Actual\", \"type\": \"quantitative\"}, \"y\": {\"field\": \"Predicted\", \"type\": \"quantitative\"}}, \"transform\": [{\"calculate\": \"random()\", \"as\": \"jitter\"}]}, {\"data\": {\"name\": \"data-c3669ebb30e24a00fb5512c8613095f5\"}, \"mark\": {\"type\": \"line\", \"color\": \"red\"}, \"encoding\": {\"x\": {\"field\": \"Actual\", \"scale\": {\"domain\": [0.0, 0.4]}, \"type\": \"quantitative\"}, \"y\": {\"field\": \"Predicted\", \"scale\": {\"domain\": [0.0, 0.4]}, \"type\": \"quantitative\"}}}], \"height\": 200, \"width\": 200, \"$schema\": \"https://vega.github.io/schema/vega-lite/v5.20.1.json\", \"datasets\": {\"data-6677bd1297eaf29d06dae54ead6bef81\": [{\"Actual\": 0.226, \"Predicted\": 0.145}, {\"Actual\": 0.1, \"Predicted\": 0.115}, {\"Actual\": 0.296, \"Predicted\": 0.11099999999999999}, {\"Actual\": 0.269, \"Predicted\": 0.044}, {\"Actual\": 0.109, \"Predicted\": 0.0}], \"data-c3669ebb30e24a00fb5512c8613095f5\": [{\"Actual\": 0.0, \"Predicted\": 0.0}, {\"Actual\": 0.4, \"Predicted\": 0.4}]}}, {\"mode\": \"vega-lite\"});\n",
       "</script>"
      ],
      "text/plain": [
       "alt.LayerChart(...)"
      ]
     },
     "execution_count": 33,
     "metadata": {},
     "output_type": "execute_result"
    }
   ],
   "source": [
    "plot"
   ]
  },
  {
   "cell_type": "code",
   "execution_count": 34,
   "metadata": {},
   "outputs": [],
   "source": [
    "#export to svg and html\n",
    "plot.save(\"scatterplot.svg\")"
   ]
  }
 ],
 "metadata": {
  "kernelspec": {
   "display_name": "pysam",
   "language": "python",
   "name": "python3"
  },
  "language_info": {
   "codemirror_mode": {
    "name": "ipython",
    "version": 3
   },
   "file_extension": ".py",
   "mimetype": "text/x-python",
   "name": "python",
   "nbconvert_exporter": "python",
   "pygments_lexer": "ipython3",
   "version": "3.12.8"
  }
 },
 "nbformat": 4,
 "nbformat_minor": 2
}
